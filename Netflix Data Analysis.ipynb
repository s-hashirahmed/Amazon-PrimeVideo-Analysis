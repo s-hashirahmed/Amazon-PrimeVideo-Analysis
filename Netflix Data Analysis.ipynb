{
 "cells": [
  {
   "cell_type": "code",
   "execution_count": 1,
   "id": "ce03105d",
   "metadata": {},
   "outputs": [],
   "source": [
    "import pandas as pd\n",
    "import numpy as np\n",
    "import plotly.express as px"
   ]
  },
  {
   "cell_type": "code",
   "execution_count": 2,
   "id": "b0bf9eca",
   "metadata": {},
   "outputs": [
    {
     "ename": "FileNotFoundError",
     "evalue": "[Errno 2] No such file or directory: 'netflix_titles.csv'",
     "output_type": "error",
     "traceback": [
      "\u001b[1;31m---------------------------------------------------------------------------\u001b[0m",
      "\u001b[1;31mFileNotFoundError\u001b[0m                         Traceback (most recent call last)",
      "Input \u001b[1;32mIn [2]\u001b[0m, in \u001b[0;36m<cell line: 1>\u001b[1;34m()\u001b[0m\n\u001b[1;32m----> 1\u001b[0m data \u001b[38;5;241m=\u001b[39m \u001b[43mpd\u001b[49m\u001b[38;5;241;43m.\u001b[39;49m\u001b[43mread_csv\u001b[49m\u001b[43m(\u001b[49m\u001b[38;5;124;43m'\u001b[39;49m\u001b[38;5;124;43mnetflix_titles.csv\u001b[39;49m\u001b[38;5;124;43m'\u001b[39;49m\u001b[43m)\u001b[49m\n",
      "File \u001b[1;32mc:\\users\\maria\\appdata\\local\\programs\\python\\python39\\lib\\site-packages\\pandas\\util\\_decorators.py:311\u001b[0m, in \u001b[0;36mdeprecate_nonkeyword_arguments.<locals>.decorate.<locals>.wrapper\u001b[1;34m(*args, **kwargs)\u001b[0m\n\u001b[0;32m    305\u001b[0m \u001b[38;5;28;01mif\u001b[39;00m \u001b[38;5;28mlen\u001b[39m(args) \u001b[38;5;241m>\u001b[39m num_allow_args:\n\u001b[0;32m    306\u001b[0m     warnings\u001b[38;5;241m.\u001b[39mwarn(\n\u001b[0;32m    307\u001b[0m         msg\u001b[38;5;241m.\u001b[39mformat(arguments\u001b[38;5;241m=\u001b[39marguments),\n\u001b[0;32m    308\u001b[0m         \u001b[38;5;167;01mFutureWarning\u001b[39;00m,\n\u001b[0;32m    309\u001b[0m         stacklevel\u001b[38;5;241m=\u001b[39mstacklevel,\n\u001b[0;32m    310\u001b[0m     )\n\u001b[1;32m--> 311\u001b[0m \u001b[38;5;28;01mreturn\u001b[39;00m func(\u001b[38;5;241m*\u001b[39margs, \u001b[38;5;241m*\u001b[39m\u001b[38;5;241m*\u001b[39mkwargs)\n",
      "File \u001b[1;32mc:\\users\\maria\\appdata\\local\\programs\\python\\python39\\lib\\site-packages\\pandas\\io\\parsers\\readers.py:678\u001b[0m, in \u001b[0;36mread_csv\u001b[1;34m(filepath_or_buffer, sep, delimiter, header, names, index_col, usecols, squeeze, prefix, mangle_dupe_cols, dtype, engine, converters, true_values, false_values, skipinitialspace, skiprows, skipfooter, nrows, na_values, keep_default_na, na_filter, verbose, skip_blank_lines, parse_dates, infer_datetime_format, keep_date_col, date_parser, dayfirst, cache_dates, iterator, chunksize, compression, thousands, decimal, lineterminator, quotechar, quoting, doublequote, escapechar, comment, encoding, encoding_errors, dialect, error_bad_lines, warn_bad_lines, on_bad_lines, delim_whitespace, low_memory, memory_map, float_precision, storage_options)\u001b[0m\n\u001b[0;32m    663\u001b[0m kwds_defaults \u001b[38;5;241m=\u001b[39m _refine_defaults_read(\n\u001b[0;32m    664\u001b[0m     dialect,\n\u001b[0;32m    665\u001b[0m     delimiter,\n\u001b[1;32m   (...)\u001b[0m\n\u001b[0;32m    674\u001b[0m     defaults\u001b[38;5;241m=\u001b[39m{\u001b[38;5;124m\"\u001b[39m\u001b[38;5;124mdelimiter\u001b[39m\u001b[38;5;124m\"\u001b[39m: \u001b[38;5;124m\"\u001b[39m\u001b[38;5;124m,\u001b[39m\u001b[38;5;124m\"\u001b[39m},\n\u001b[0;32m    675\u001b[0m )\n\u001b[0;32m    676\u001b[0m kwds\u001b[38;5;241m.\u001b[39mupdate(kwds_defaults)\n\u001b[1;32m--> 678\u001b[0m \u001b[38;5;28;01mreturn\u001b[39;00m \u001b[43m_read\u001b[49m\u001b[43m(\u001b[49m\u001b[43mfilepath_or_buffer\u001b[49m\u001b[43m,\u001b[49m\u001b[43m \u001b[49m\u001b[43mkwds\u001b[49m\u001b[43m)\u001b[49m\n",
      "File \u001b[1;32mc:\\users\\maria\\appdata\\local\\programs\\python\\python39\\lib\\site-packages\\pandas\\io\\parsers\\readers.py:575\u001b[0m, in \u001b[0;36m_read\u001b[1;34m(filepath_or_buffer, kwds)\u001b[0m\n\u001b[0;32m    572\u001b[0m _validate_names(kwds\u001b[38;5;241m.\u001b[39mget(\u001b[38;5;124m\"\u001b[39m\u001b[38;5;124mnames\u001b[39m\u001b[38;5;124m\"\u001b[39m, \u001b[38;5;28;01mNone\u001b[39;00m))\n\u001b[0;32m    574\u001b[0m \u001b[38;5;66;03m# Create the parser.\u001b[39;00m\n\u001b[1;32m--> 575\u001b[0m parser \u001b[38;5;241m=\u001b[39m TextFileReader(filepath_or_buffer, \u001b[38;5;241m*\u001b[39m\u001b[38;5;241m*\u001b[39mkwds)\n\u001b[0;32m    577\u001b[0m \u001b[38;5;28;01mif\u001b[39;00m chunksize \u001b[38;5;129;01mor\u001b[39;00m iterator:\n\u001b[0;32m    578\u001b[0m     \u001b[38;5;28;01mreturn\u001b[39;00m parser\n",
      "File \u001b[1;32mc:\\users\\maria\\appdata\\local\\programs\\python\\python39\\lib\\site-packages\\pandas\\io\\parsers\\readers.py:932\u001b[0m, in \u001b[0;36mTextFileReader.__init__\u001b[1;34m(self, f, engine, **kwds)\u001b[0m\n\u001b[0;32m    929\u001b[0m     \u001b[38;5;28mself\u001b[39m\u001b[38;5;241m.\u001b[39moptions[\u001b[38;5;124m\"\u001b[39m\u001b[38;5;124mhas_index_names\u001b[39m\u001b[38;5;124m\"\u001b[39m] \u001b[38;5;241m=\u001b[39m kwds[\u001b[38;5;124m\"\u001b[39m\u001b[38;5;124mhas_index_names\u001b[39m\u001b[38;5;124m\"\u001b[39m]\n\u001b[0;32m    931\u001b[0m \u001b[38;5;28mself\u001b[39m\u001b[38;5;241m.\u001b[39mhandles: IOHandles \u001b[38;5;241m|\u001b[39m \u001b[38;5;28;01mNone\u001b[39;00m \u001b[38;5;241m=\u001b[39m \u001b[38;5;28;01mNone\u001b[39;00m\n\u001b[1;32m--> 932\u001b[0m \u001b[38;5;28mself\u001b[39m\u001b[38;5;241m.\u001b[39m_engine \u001b[38;5;241m=\u001b[39m \u001b[38;5;28;43mself\u001b[39;49m\u001b[38;5;241;43m.\u001b[39;49m\u001b[43m_make_engine\u001b[49m\u001b[43m(\u001b[49m\u001b[43mf\u001b[49m\u001b[43m,\u001b[49m\u001b[43m \u001b[49m\u001b[38;5;28;43mself\u001b[39;49m\u001b[38;5;241;43m.\u001b[39;49m\u001b[43mengine\u001b[49m\u001b[43m)\u001b[49m\n",
      "File \u001b[1;32mc:\\users\\maria\\appdata\\local\\programs\\python\\python39\\lib\\site-packages\\pandas\\io\\parsers\\readers.py:1216\u001b[0m, in \u001b[0;36mTextFileReader._make_engine\u001b[1;34m(self, f, engine)\u001b[0m\n\u001b[0;32m   1212\u001b[0m     mode \u001b[38;5;241m=\u001b[39m \u001b[38;5;124m\"\u001b[39m\u001b[38;5;124mrb\u001b[39m\u001b[38;5;124m\"\u001b[39m\n\u001b[0;32m   1213\u001b[0m \u001b[38;5;66;03m# error: No overload variant of \"get_handle\" matches argument types\u001b[39;00m\n\u001b[0;32m   1214\u001b[0m \u001b[38;5;66;03m# \"Union[str, PathLike[str], ReadCsvBuffer[bytes], ReadCsvBuffer[str]]\"\u001b[39;00m\n\u001b[0;32m   1215\u001b[0m \u001b[38;5;66;03m# , \"str\", \"bool\", \"Any\", \"Any\", \"Any\", \"Any\", \"Any\"\u001b[39;00m\n\u001b[1;32m-> 1216\u001b[0m \u001b[38;5;28mself\u001b[39m\u001b[38;5;241m.\u001b[39mhandles \u001b[38;5;241m=\u001b[39m \u001b[43mget_handle\u001b[49m\u001b[43m(\u001b[49m\u001b[43m  \u001b[49m\u001b[38;5;66;43;03m# type: ignore[call-overload]\u001b[39;49;00m\n\u001b[0;32m   1217\u001b[0m \u001b[43m    \u001b[49m\u001b[43mf\u001b[49m\u001b[43m,\u001b[49m\n\u001b[0;32m   1218\u001b[0m \u001b[43m    \u001b[49m\u001b[43mmode\u001b[49m\u001b[43m,\u001b[49m\n\u001b[0;32m   1219\u001b[0m \u001b[43m    \u001b[49m\u001b[43mencoding\u001b[49m\u001b[38;5;241;43m=\u001b[39;49m\u001b[38;5;28;43mself\u001b[39;49m\u001b[38;5;241;43m.\u001b[39;49m\u001b[43moptions\u001b[49m\u001b[38;5;241;43m.\u001b[39;49m\u001b[43mget\u001b[49m\u001b[43m(\u001b[49m\u001b[38;5;124;43m\"\u001b[39;49m\u001b[38;5;124;43mencoding\u001b[39;49m\u001b[38;5;124;43m\"\u001b[39;49m\u001b[43m,\u001b[49m\u001b[43m \u001b[49m\u001b[38;5;28;43;01mNone\u001b[39;49;00m\u001b[43m)\u001b[49m\u001b[43m,\u001b[49m\n\u001b[0;32m   1220\u001b[0m \u001b[43m    \u001b[49m\u001b[43mcompression\u001b[49m\u001b[38;5;241;43m=\u001b[39;49m\u001b[38;5;28;43mself\u001b[39;49m\u001b[38;5;241;43m.\u001b[39;49m\u001b[43moptions\u001b[49m\u001b[38;5;241;43m.\u001b[39;49m\u001b[43mget\u001b[49m\u001b[43m(\u001b[49m\u001b[38;5;124;43m\"\u001b[39;49m\u001b[38;5;124;43mcompression\u001b[39;49m\u001b[38;5;124;43m\"\u001b[39;49m\u001b[43m,\u001b[49m\u001b[43m \u001b[49m\u001b[38;5;28;43;01mNone\u001b[39;49;00m\u001b[43m)\u001b[49m\u001b[43m,\u001b[49m\n\u001b[0;32m   1221\u001b[0m \u001b[43m    \u001b[49m\u001b[43mmemory_map\u001b[49m\u001b[38;5;241;43m=\u001b[39;49m\u001b[38;5;28;43mself\u001b[39;49m\u001b[38;5;241;43m.\u001b[39;49m\u001b[43moptions\u001b[49m\u001b[38;5;241;43m.\u001b[39;49m\u001b[43mget\u001b[49m\u001b[43m(\u001b[49m\u001b[38;5;124;43m\"\u001b[39;49m\u001b[38;5;124;43mmemory_map\u001b[39;49m\u001b[38;5;124;43m\"\u001b[39;49m\u001b[43m,\u001b[49m\u001b[43m \u001b[49m\u001b[38;5;28;43;01mFalse\u001b[39;49;00m\u001b[43m)\u001b[49m\u001b[43m,\u001b[49m\n\u001b[0;32m   1222\u001b[0m \u001b[43m    \u001b[49m\u001b[43mis_text\u001b[49m\u001b[38;5;241;43m=\u001b[39;49m\u001b[43mis_text\u001b[49m\u001b[43m,\u001b[49m\n\u001b[0;32m   1223\u001b[0m \u001b[43m    \u001b[49m\u001b[43merrors\u001b[49m\u001b[38;5;241;43m=\u001b[39;49m\u001b[38;5;28;43mself\u001b[39;49m\u001b[38;5;241;43m.\u001b[39;49m\u001b[43moptions\u001b[49m\u001b[38;5;241;43m.\u001b[39;49m\u001b[43mget\u001b[49m\u001b[43m(\u001b[49m\u001b[38;5;124;43m\"\u001b[39;49m\u001b[38;5;124;43mencoding_errors\u001b[39;49m\u001b[38;5;124;43m\"\u001b[39;49m\u001b[43m,\u001b[49m\u001b[43m \u001b[49m\u001b[38;5;124;43m\"\u001b[39;49m\u001b[38;5;124;43mstrict\u001b[39;49m\u001b[38;5;124;43m\"\u001b[39;49m\u001b[43m)\u001b[49m\u001b[43m,\u001b[49m\n\u001b[0;32m   1224\u001b[0m \u001b[43m    \u001b[49m\u001b[43mstorage_options\u001b[49m\u001b[38;5;241;43m=\u001b[39;49m\u001b[38;5;28;43mself\u001b[39;49m\u001b[38;5;241;43m.\u001b[39;49m\u001b[43moptions\u001b[49m\u001b[38;5;241;43m.\u001b[39;49m\u001b[43mget\u001b[49m\u001b[43m(\u001b[49m\u001b[38;5;124;43m\"\u001b[39;49m\u001b[38;5;124;43mstorage_options\u001b[39;49m\u001b[38;5;124;43m\"\u001b[39;49m\u001b[43m,\u001b[49m\u001b[43m \u001b[49m\u001b[38;5;28;43;01mNone\u001b[39;49;00m\u001b[43m)\u001b[49m\u001b[43m,\u001b[49m\n\u001b[0;32m   1225\u001b[0m \u001b[43m\u001b[49m\u001b[43m)\u001b[49m\n\u001b[0;32m   1226\u001b[0m \u001b[38;5;28;01massert\u001b[39;00m \u001b[38;5;28mself\u001b[39m\u001b[38;5;241m.\u001b[39mhandles \u001b[38;5;129;01mis\u001b[39;00m \u001b[38;5;129;01mnot\u001b[39;00m \u001b[38;5;28;01mNone\u001b[39;00m\n\u001b[0;32m   1227\u001b[0m f \u001b[38;5;241m=\u001b[39m \u001b[38;5;28mself\u001b[39m\u001b[38;5;241m.\u001b[39mhandles\u001b[38;5;241m.\u001b[39mhandle\n",
      "File \u001b[1;32mc:\\users\\maria\\appdata\\local\\programs\\python\\python39\\lib\\site-packages\\pandas\\io\\common.py:786\u001b[0m, in \u001b[0;36mget_handle\u001b[1;34m(path_or_buf, mode, encoding, compression, memory_map, is_text, errors, storage_options)\u001b[0m\n\u001b[0;32m    781\u001b[0m \u001b[38;5;28;01melif\u001b[39;00m \u001b[38;5;28misinstance\u001b[39m(handle, \u001b[38;5;28mstr\u001b[39m):\n\u001b[0;32m    782\u001b[0m     \u001b[38;5;66;03m# Check whether the filename is to be opened in binary mode.\u001b[39;00m\n\u001b[0;32m    783\u001b[0m     \u001b[38;5;66;03m# Binary mode does not support 'encoding' and 'newline'.\u001b[39;00m\n\u001b[0;32m    784\u001b[0m     \u001b[38;5;28;01mif\u001b[39;00m ioargs\u001b[38;5;241m.\u001b[39mencoding \u001b[38;5;129;01mand\u001b[39;00m \u001b[38;5;124m\"\u001b[39m\u001b[38;5;124mb\u001b[39m\u001b[38;5;124m\"\u001b[39m \u001b[38;5;129;01mnot\u001b[39;00m \u001b[38;5;129;01min\u001b[39;00m ioargs\u001b[38;5;241m.\u001b[39mmode:\n\u001b[0;32m    785\u001b[0m         \u001b[38;5;66;03m# Encoding\u001b[39;00m\n\u001b[1;32m--> 786\u001b[0m         handle \u001b[38;5;241m=\u001b[39m \u001b[38;5;28;43mopen\u001b[39;49m\u001b[43m(\u001b[49m\n\u001b[0;32m    787\u001b[0m \u001b[43m            \u001b[49m\u001b[43mhandle\u001b[49m\u001b[43m,\u001b[49m\n\u001b[0;32m    788\u001b[0m \u001b[43m            \u001b[49m\u001b[43mioargs\u001b[49m\u001b[38;5;241;43m.\u001b[39;49m\u001b[43mmode\u001b[49m\u001b[43m,\u001b[49m\n\u001b[0;32m    789\u001b[0m \u001b[43m            \u001b[49m\u001b[43mencoding\u001b[49m\u001b[38;5;241;43m=\u001b[39;49m\u001b[43mioargs\u001b[49m\u001b[38;5;241;43m.\u001b[39;49m\u001b[43mencoding\u001b[49m\u001b[43m,\u001b[49m\n\u001b[0;32m    790\u001b[0m \u001b[43m            \u001b[49m\u001b[43merrors\u001b[49m\u001b[38;5;241;43m=\u001b[39;49m\u001b[43merrors\u001b[49m\u001b[43m,\u001b[49m\n\u001b[0;32m    791\u001b[0m \u001b[43m            \u001b[49m\u001b[43mnewline\u001b[49m\u001b[38;5;241;43m=\u001b[39;49m\u001b[38;5;124;43m\"\u001b[39;49m\u001b[38;5;124;43m\"\u001b[39;49m\u001b[43m,\u001b[49m\n\u001b[0;32m    792\u001b[0m \u001b[43m        \u001b[49m\u001b[43m)\u001b[49m\n\u001b[0;32m    793\u001b[0m     \u001b[38;5;28;01melse\u001b[39;00m:\n\u001b[0;32m    794\u001b[0m         \u001b[38;5;66;03m# Binary mode\u001b[39;00m\n\u001b[0;32m    795\u001b[0m         handle \u001b[38;5;241m=\u001b[39m \u001b[38;5;28mopen\u001b[39m(handle, ioargs\u001b[38;5;241m.\u001b[39mmode)\n",
      "\u001b[1;31mFileNotFoundError\u001b[0m: [Errno 2] No such file or directory: 'netflix_titles.csv'"
     ]
    }
   ],
   "source": [
    "data = pd.read_csv('netflix_titles.csv')"
   ]
  },
  {
   "cell_type": "code",
   "execution_count": null,
   "id": "b4112194",
   "metadata": {},
   "outputs": [],
   "source": [
    "data.columns"
   ]
  },
  {
   "cell_type": "code",
   "execution_count": null,
   "id": "6d02ab43",
   "metadata": {},
   "outputs": [],
   "source": [
    "z=data.groupby(data.rating).size().sort_values(ascending=False).reset_index(name='counts')\n",
    "z"
   ]
  },
  {
   "cell_type": "code",
   "execution_count": null,
   "id": "f17ddc7c",
   "metadata": {},
   "outputs": [],
   "source": [
    "pie_chart  = px.pie(z, values='counts', names='rating', title='Distribution of Content', color_discrete_sequence=px.colors.qualitative.Set3)\n",
    "\n",
    "pie_chart.show()"
   ]
  },
  {
   "cell_type": "code",
   "execution_count": null,
   "id": "27847620",
   "metadata": {},
   "outputs": [],
   "source": [
    "x=data.director.dropna().reset_index(name='directors').groupby('directors').size().sort_values(ascending=False)\n",
    "dff = data\n",
    "x"
   ]
  },
  {
   "cell_type": "code",
   "execution_count": null,
   "id": "22ac457d",
   "metadata": {},
   "outputs": [],
   "source": [
    "dff['director']=dff['director'].fillna('No Director Specified')\n",
    "filtered_directors=pd.DataFrame()\n",
    "filtered_directors=dff['director'].str.split(',',expand=True).stack()\n",
    "filtered_directors=filtered_directors.to_frame()\n",
    "filtered_directors.columns=['Director']\n",
    "directors=filtered_directors.groupby(['Director']).size().reset_index(name='Total Content')\n",
    "directors=directors[directors.Director !='No Director Specified']\n",
    "directors=directors.sort_values(by=['Total Content'],ascending=False)\n",
    "directorsTop5=directors.head()\n",
    "directorsTop5=directorsTop5.sort_values(by=['Total Content'])\n",
    "directorsTop5\n",
    "# fig1=px.bar(directorsTop5,x='Total Content',y='Director',title='Top 5 Directors on Netflix')\n",
    "# fig1.show()"
   ]
  },
  {
   "cell_type": "code",
   "execution_count": null,
   "id": "8507ff37",
   "metadata": {},
   "outputs": [],
   "source": [
    "topdirectors = data.director.str.split(',',expand=True).stack().reset_index(name='director').groupby('director').size().sort_values(ascending=False)\n",
    "topdirectors"
   ]
  },
  {
   "cell_type": "code",
   "execution_count": null,
   "id": "35a06d23",
   "metadata": {},
   "outputs": [],
   "source": [
    "topdirectors=topdirectors.drop('No Director Specified')"
   ]
  },
  {
   "cell_type": "code",
   "execution_count": null,
   "id": "4f130fa5",
   "metadata": {},
   "outputs": [],
   "source": [
    "\n",
    "topdirectors=topdirectors.head(5).reset_index(name='content')"
   ]
  },
  {
   "cell_type": "code",
   "execution_count": null,
   "id": "a9325a9d",
   "metadata": {},
   "outputs": [],
   "source": [
    "barChart=px.bar(topdirectors, x='director', y='content', title='Top 5 Directors on Netflix Platform')"
   ]
  },
  {
   "cell_type": "code",
   "execution_count": null,
   "id": "6b3d5223",
   "metadata": {},
   "outputs": [],
   "source": [
    "barChart.show()"
   ]
  },
  {
   "cell_type": "markdown",
   "id": "3b5dd03c",
   "metadata": {},
   "source": [
    "\n",
    "# Top by Countries\n"
   ]
  },
  {
   "cell_type": "code",
   "execution_count": null,
   "id": "a3cd137b",
   "metadata": {},
   "outputs": [],
   "source": [
    "data.columns"
   ]
  },
  {
   "cell_type": "code",
   "execution_count": null,
   "id": "ecd6fe34",
   "metadata": {},
   "outputs": [],
   "source": [
    "data.country#.apply(lambda x: x.split(','))\n",
    "# data.groupby(data.country).size().reset_index(name='total content').sort_values('country')"
   ]
  },
  {
   "cell_type": "code",
   "execution_count": null,
   "id": "8b6d60b5",
   "metadata": {},
   "outputs": [],
   "source": [
    "z = data.country.dropna().reset_index(name='countries').groupby('countries').size().sort_values(ascending=False).head(10)\n",
    "z = z.reset_index(name='Total count')\n",
    "z"
   ]
  },
  {
   "cell_type": "code",
   "execution_count": null,
   "id": "ca8d88c0",
   "metadata": {},
   "outputs": [],
   "source": [
    "graph = px.bar(z,x= 'countries', y= 'Total count')"
   ]
  },
  {
   "cell_type": "code",
   "execution_count": null,
   "id": "3ebb4623",
   "metadata": {},
   "outputs": [],
   "source": [
    "graph.show()"
   ]
  },
  {
   "cell_type": "markdown",
   "id": "6b7fcfd1",
   "metadata": {},
   "source": [
    "# top by type"
   ]
  },
  {
   "cell_type": "code",
   "execution_count": null,
   "id": "d51b4047",
   "metadata": {},
   "outputs": [],
   "source": [
    "data.type"
   ]
  },
  {
   "cell_type": "code",
   "execution_count": null,
   "id": "044e901d",
   "metadata": {},
   "outputs": [],
   "source": [
    "data.type.isnull().sum()"
   ]
  },
  {
   "cell_type": "code",
   "execution_count": null,
   "id": "b44e3312",
   "metadata": {},
   "outputs": [],
   "source": [
    "dff = data.groupby('type').size().reset_index(name='count')\n",
    "dff"
   ]
  },
  {
   "cell_type": "code",
   "execution_count": null,
   "id": "fbd6024c",
   "metadata": {},
   "outputs": [],
   "source": [
    "\n",
    "px.pie(dff, values='count', names='type', title='Distribution of Content bsed on Type', color_discrete_sequence=px.colors.qualitative.Set2)"
   ]
  },
  {
   "cell_type": "markdown",
   "id": "cc9dbd5b",
   "metadata": {},
   "source": [
    "\n",
    "# Top by Genres\n"
   ]
  },
  {
   "cell_type": "code",
   "execution_count": null,
   "id": "c9ea992a",
   "metadata": {},
   "outputs": [],
   "source": [
    "data.columns"
   ]
  },
  {
   "cell_type": "code",
   "execution_count": null,
   "id": "e19d486d",
   "metadata": {},
   "outputs": [],
   "source": [
    "data.listed_in.apply(lambda x:x.split(','))\n",
    "\n",
    "df = data.listed_in.str.split(',', expand=True).stack().reset_index(name='content')"
   ]
  },
  {
   "cell_type": "code",
   "execution_count": null,
   "id": "e90173d2",
   "metadata": {},
   "outputs": [],
   "source": [
    "\n",
    "z=df.groupby('content').size().reset_index(name='count').sort_values('count', ascending=False)\n",
    "# data.listed_in.isnull().sum()\n",
    "z"
   ]
  },
  {
   "cell_type": "code",
   "execution_count": null,
   "id": "3a07afac",
   "metadata": {},
   "outputs": [],
   "source": [
    "px.bar(z.head(20), y='content', x='count', title='Content Based on Genres', color_discrete_sequence=px.colors.qualitative.Set3)"
   ]
  },
  {
   "cell_type": "markdown",
   "id": "0cf4ad38",
   "metadata": {},
   "source": [
    "\n",
    "# Top by Cast"
   ]
  },
  {
   "cell_type": "code",
   "execution_count": null,
   "id": "56b1cfda",
   "metadata": {},
   "outputs": [],
   "source": [
    "data.columns\n"
   ]
  },
  {
   "cell_type": "code",
   "execution_count": null,
   "id": "d7452a30",
   "metadata": {
    "scrolled": true
   },
   "outputs": [],
   "source": [
    "casts = data.cast.str.split(', ',expand=True).stack().reset_index(name='Artist')\n",
    "casts"
   ]
  },
  {
   "cell_type": "code",
   "execution_count": null,
   "id": "be6dc07c",
   "metadata": {
    "scrolled": false
   },
   "outputs": [],
   "source": [
    "artist = casts.groupby('Artist').size().reset_index(name = 'count').sort_values('count', ascending=False)\n",
    "np.where(artist.Artist.values == 'Salman Khan')\n"
   ]
  },
  {
   "cell_type": "code",
   "execution_count": null,
   "id": "3b30ee9c",
   "metadata": {
    "scrolled": false
   },
   "outputs": [],
   "source": [
    "barChart=px.bar(artist.head(20), y='count', x='Artist', title='Top Actors on Netflix', color_discrete_sequence=px.colors.qualitative.Set3)"
   ]
  },
  {
   "cell_type": "code",
   "execution_count": null,
   "id": "c261e546",
   "metadata": {},
   "outputs": [],
   "source": [
    "barChart.show()"
   ]
  },
  {
   "cell_type": "code",
   "execution_count": null,
   "id": "5eb4e16e",
   "metadata": {},
   "outputs": [],
   "source": [
    "data.cast=data.cast.dropna().apply(lambda x: x.split(', '))"
   ]
  },
  {
   "cell_type": "code",
   "execution_count": null,
   "id": "8267a411",
   "metadata": {
    "scrolled": true
   },
   "outputs": [],
   "source": [
    "x=data.cast.dropna().apply(lambda x: 'Shah Rukh Khan' in x)\n",
    "srk_movies=data.cast.dropna()[x]\n",
    "x = srk_movies.index\n",
    "srk_movies=data.iloc[x]"
   ]
  },
  {
   "cell_type": "markdown",
   "id": "46c47e6c",
   "metadata": {},
   "source": [
    "\n",
    "# Analysing Shahrukh Khan Movies\n"
   ]
  },
  {
   "cell_type": "code",
   "execution_count": null,
   "id": "e544379a",
   "metadata": {},
   "outputs": [],
   "source": [
    "srk_movies\n"
   ]
  },
  {
   "cell_type": "code",
   "execution_count": null,
   "id": "ec515bdc",
   "metadata": {},
   "outputs": [],
   "source": [
    "x = srk_movies.listed_in.str.split(', ', expand=True).stack().reset_index(name='genre').groupby('genre').size()\n",
    "x=x.reset_index(name='count')\n",
    "x"
   ]
  },
  {
   "cell_type": "code",
   "execution_count": null,
   "id": "6d5f3829",
   "metadata": {},
   "outputs": [],
   "source": [
    "px.pie(x.sort_values('count',ascending=True), names='genre', values='count', title='SRK Movies top genre')"
   ]
  },
  {
   "cell_type": "code",
   "execution_count": null,
   "id": "eec83c64",
   "metadata": {},
   "outputs": [],
   "source": [
    "srk_movies.director.groupby(srk_movies.director).count()"
   ]
  },
  {
   "cell_type": "code",
   "execution_count": null,
   "id": "e6037005",
   "metadata": {},
   "outputs": [],
   "source": [
    "srk_movies.description.str.lower()"
   ]
  },
  {
   "cell_type": "code",
   "execution_count": null,
   "id": "9eb66ce2",
   "metadata": {},
   "outputs": [],
   "source": [
    "data.columns"
   ]
  },
  {
   "cell_type": "code",
   "execution_count": null,
   "id": "9e6bc014",
   "metadata": {},
   "outputs": [],
   "source": [
    "px.bar(srk_movies.director.groupby(srk_movies.director).count().sort_values(ascending=False).reset_index(name='count'), x='count', y='director')"
   ]
  },
  {
   "cell_type": "code",
   "execution_count": null,
   "id": "c29f75a7",
   "metadata": {
    "scrolled": true
   },
   "outputs": [],
   "source": [
    "data.iloc[np.where(data.release_year == data.release_year.max())[0]]"
   ]
  },
  {
   "cell_type": "code",
   "execution_count": null,
   "id": "9def91cb",
   "metadata": {},
   "outputs": [],
   "source": [
    "data.country.dropna().groupby(data.country).size().sort_values(ascending=False)"
   ]
  },
  {
   "cell_type": "code",
   "execution_count": null,
   "id": "e79000c9",
   "metadata": {},
   "outputs": [],
   "source": [
    "'hashir'+ ' '+ \"\".join(data.description.values[0])"
   ]
  },
  {
   "cell_type": "code",
   "execution_count": null,
   "id": "b12a4755",
   "metadata": {},
   "outputs": [],
   "source": [
    "ak_movies = data.cast.dropna().apply(lambda x: 'Akshay Kumar' in x)\n",
    "ak_movies=data.iloc[data.cast.dropna()[ak_movies].index]"
   ]
  },
  {
   "cell_type": "code",
   "execution_count": null,
   "id": "16112ec3",
   "metadata": {},
   "outputs": [],
   "source": [
    "ak_movies.director.groupby(ak_movies.director).size()"
   ]
  },
  {
   "cell_type": "code",
   "execution_count": null,
   "id": "ec950c9d",
   "metadata": {},
   "outputs": [],
   "source": [
    "import os\n",
    "os.chdir(\"D:\\Pakistan Super League Datasets/Timeline data\")\n",
    "os.listdir()"
   ]
  },
  {
   "cell_type": "markdown",
   "id": "8d2618f2",
   "metadata": {},
   "source": [
    "# PSL Data Analysis"
   ]
  },
  {
   "cell_type": "code",
   "execution_count": null,
   "id": "e31bd66e",
   "metadata": {},
   "outputs": [],
   "source": [
    "data = pd.read_csv('Most match wins in PSL since 2016.csv')"
   ]
  },
  {
   "cell_type": "code",
   "execution_count": null,
   "id": "6a2f7c36",
   "metadata": {},
   "outputs": [],
   "source": [
    "data"
   ]
  },
  {
   "cell_type": "code",
   "execution_count": null,
   "id": "495e8751",
   "metadata": {},
   "outputs": [],
   "source": [
    "data['Max wins'] = data['Match # 144']"
   ]
  },
  {
   "cell_type": "code",
   "execution_count": null,
   "id": "16d2a564",
   "metadata": {},
   "outputs": [],
   "source": [
    "data['Max wins'].sum()"
   ]
  },
  {
   "cell_type": "code",
   "execution_count": null,
   "id": "756ea288",
   "metadata": {},
   "outputs": [],
   "source": [
    "pie_chart = px.pie(data, names='Team Name', values='Max wins')"
   ]
  },
  {
   "cell_type": "code",
   "execution_count": null,
   "id": "cd3a74bc",
   "metadata": {},
   "outputs": [],
   "source": [
    "\n",
    "pie_chart"
   ]
  },
  {
   "cell_type": "code",
   "execution_count": null,
   "id": "7edda31a",
   "metadata": {},
   "outputs": [],
   "source": [
    "px.bar(data, y='Team Name', x='Max wins', color_discrete_sequence=px.colors.qualitative.Set2)"
   ]
  },
  {
   "cell_type": "code",
   "execution_count": null,
   "id": "d1d62fcc",
   "metadata": {},
   "outputs": [],
   "source": [
    "os.listdir()"
   ]
  },
  {
   "cell_type": "code",
   "execution_count": null,
   "id": "0e16dc5c",
   "metadata": {},
   "outputs": [],
   "source": [
    "data = pd.read_csv('Most sixes by a player in PSL since 2016.csv')"
   ]
  },
  {
   "cell_type": "code",
   "execution_count": null,
   "id": "372e9576",
   "metadata": {},
   "outputs": [],
   "source": [
    "data"
   ]
  },
  {
   "cell_type": "code",
   "execution_count": null,
   "id": "f886d874",
   "metadata": {},
   "outputs": [],
   "source": [
    "data.corr()"
   ]
  },
  {
   "cell_type": "code",
   "execution_count": null,
   "id": "f287faad",
   "metadata": {},
   "outputs": [],
   "source": [
    "df = data[['Player Name', 'PSL 2020 | Match # 34']]\n",
    "df['Most Sixes'] = df['PSL 2020 | Match # 34']\n",
    "df"
   ]
  },
  {
   "cell_type": "code",
   "execution_count": null,
   "id": "2e231edf",
   "metadata": {},
   "outputs": [],
   "source": [
    "chart=px.bar(df.sort_values('PSL 2020 | Match # 34', ascending=False).head(20), x='Player Name', y='Most Sixes', title = 'Most Six Hit by Player in PSL', color_discrete_sequence=px.colors.qualitative.Set1)"
   ]
  },
  {
   "cell_type": "code",
   "execution_count": null,
   "id": "e230b84b",
   "metadata": {},
   "outputs": [],
   "source": [
    "chart"
   ]
  },
  {
   "cell_type": "code",
   "execution_count": null,
   "id": "3951f812",
   "metadata": {},
   "outputs": [],
   "source": [
    "os.listdir()"
   ]
  },
  {
   "cell_type": "code",
   "execution_count": null,
   "id": "12e61cb4",
   "metadata": {},
   "outputs": [],
   "source": [
    "data = pd.read_csv('Most wickets taken by a player in PSL since 2016.csv')"
   ]
  },
  {
   "cell_type": "code",
   "execution_count": null,
   "id": "e9a7d4f9",
   "metadata": {
    "scrolled": true
   },
   "outputs": [],
   "source": [
    "data"
   ]
  },
  {
   "cell_type": "code",
   "execution_count": null,
   "id": "3e7fb649",
   "metadata": {},
   "outputs": [],
   "source": [
    "data.info()"
   ]
  },
  {
   "cell_type": "code",
   "execution_count": null,
   "id": "71f3bce8",
   "metadata": {},
   "outputs": [],
   "source": [
    "data.columns[-1]"
   ]
  },
  {
   "cell_type": "code",
   "execution_count": null,
   "id": "c11f14e5",
   "metadata": {},
   "outputs": [],
   "source": [
    "data.MostWickets = data['PSL 2020 | Match # 34']"
   ]
  },
  {
   "cell_type": "code",
   "execution_count": null,
   "id": "3a6e32fe",
   "metadata": {},
   "outputs": [],
   "source": [
    "data['most_wickets'] = data['PSL 2020 | Match # 34']"
   ]
  },
  {
   "cell_type": "code",
   "execution_count": null,
   "id": "701499e9",
   "metadata": {},
   "outputs": [],
   "source": [
    "data"
   ]
  },
  {
   "cell_type": "code",
   "execution_count": null,
   "id": "9d5053d3",
   "metadata": {},
   "outputs": [],
   "source": [
    "\n",
    "data = data[['Player Name','most_wickets']].sort_values('most_wickets',ascending=False)\n"
   ]
  },
  {
   "cell_type": "code",
   "execution_count": null,
   "id": "acb95a72",
   "metadata": {},
   "outputs": [],
   "source": [
    "px.bar(data.head(20).sort_values('most_wickets', ascending=False),x='most_wickets',y='Player Name')"
   ]
  },
  {
   "cell_type": "code",
   "execution_count": null,
   "id": "2efe646d",
   "metadata": {},
   "outputs": [],
   "source": [
    "os.getcwd()\n",
    "os.chdir('D:\\\\Pakistan Super League Datasets')"
   ]
  },
  {
   "cell_type": "code",
   "execution_count": null,
   "id": "ccc449f7",
   "metadata": {},
   "outputs": [],
   "source": [
    "os.getcwd()"
   ]
  },
  {
   "cell_type": "code",
   "execution_count": null,
   "id": "90648da7",
   "metadata": {},
   "outputs": [],
   "source": [
    "os.listdir()"
   ]
  },
  {
   "cell_type": "code",
   "execution_count": null,
   "id": "17ef4522",
   "metadata": {},
   "outputs": [],
   "source": []
  }
 ],
 "metadata": {
  "kernelspec": {
   "display_name": "Python 3 (ipykernel)",
   "language": "python",
   "name": "python3"
  },
  "language_info": {
   "codemirror_mode": {
    "name": "ipython",
    "version": 3
   },
   "file_extension": ".py",
   "mimetype": "text/x-python",
   "name": "python",
   "nbconvert_exporter": "python",
   "pygments_lexer": "ipython3",
   "version": "3.9.0"
  }
 },
 "nbformat": 4,
 "nbformat_minor": 5
}
